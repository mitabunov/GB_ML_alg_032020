{   "cell_type": "markdown",
   "metadata": {},
   "source": [
    "\n",
    "\n",
    "****[Домашнее задание](#theory)****\n"
   ]
  },
 "cells": [
  {
   "cell_type": "markdown",
   "metadata": {},
   "source": [
    "# Урок 2.  \n",
    "# Масштабирование признаков.  \n",
    "# L1- и L2-регуляризация.  \n",
    "# Стохастический градиентный спуск"
   ]
  },
  {

  {
   "cell_type": "code",
   "execution_count": 10,
   "metadata": {
    "colab": {},
    "colab_type": "code",
    "id": "_u5bV-OlT34p"
   },
   "outputs": [],
   "source": [
    "import numpy as np\n",
    "import matplotlib.pyplot as plt"
   ]
  },
  {
   "cell_type": "code",
   "execution_count": 11,
   "metadata": {
    "colab": {},
    "colab_type": "code",
    "id": "_n6il-AZaLuA"
   },
   "outputs": [],
   "source": [
    "X = np.array([[1, 1, 1, 1, 1, 1, 1, 1, 1, 1],\n",
    "              [1, 1, 2, 1, 3, 0, 5, 10, 1, 2],\n",
    "              [500, 700, 750, 600, 1450,\n",
    "               800, 1500, 2000, 450, 1000],\n",
    "              [1, 1, 2, 1, 2, \n",
    "               1, 3, 3, 1, 2]])"
   ]
  },
  {
   "cell_type": "code",
   "execution_count": 12,
   "metadata": {
    "colab": {},
    "colab_type": "code",
    "id": "x8yoci01ni-t"
   },
   "outputs": [],
   "source": [
    "y = [45, 55, 50, 59, 65,\n",
    "    35, 75, 80, 50, 60]"
   ]
  },
  {
   "cell_type": "markdown",
   "metadata": {},
   "source": [
    "# Виды масштабирования признаков"
   ]
  },
  {
   "cell_type": "markdown",
   "metadata": {},
   "source": [
    "![img/normalization.png](img/normalization.png)"
   ]
  },
  {
   "cell_type": "markdown",
   "metadata": {},
   "source": [
    "### MinMaxScaler  \n",
    "\n",
    "$$\\large X_{norm} = \\frac{X – X_{min}}{X_{max}-X_{min}}$$"
   ]
  },
  {
   "cell_type": "code",
   "execution_count": 13,
   "metadata": {
    "colab": {
     "base_uri": "https://localhost:8080/",
     "height": 34
    },
    "colab_type": "code",
    "id": "Ei5qeZO_aT6m",
    "outputId": "087819d3-202a-46c9-f87d-49e17953099c"
   },
   "outputs": [
    {
     "data": {
      "text/plain": [
       "(0, 10)"
      ]
     },
     "execution_count": 13,
     "metadata": {},
     "output_type": "execute_result"
    }
   ],
   "source": [
    "X[1].min(), X[1].max()"
   ]
  },
  {
   "cell_type": "code",
   "execution_count": 14,
   "metadata": {
    "colab": {
     "base_uri": "https://localhost:8080/",
     "height": 34
    },
    "colab_type": "code",
    "id": "L7wsW1Q7b4Ts",
    "outputId": "911044d6-32c1-475a-80cd-cbaf26d5ba32"
   },
   "outputs": [
    {
     "data": {
      "text/plain": [
       "(450, 2000)"
      ]
     },
     "execution_count": 14,
     "metadata": {},
     "output_type": "execute_result"
    }
   ],
   "source": [
    "X[2].min(), X[2].max()"
   ]
  },
  {
   "cell_type": "code",
   "execution_count": 15,
   "metadata": {
    "colab": {
     "base_uri": "https://localhost:8080/",
     "height": 121
    },
    "colab_type": "code",
    "id": "E55S9Bzob9Xa",
    "outputId": "4abf56a2-d484-4c24-8520-8ed1b58ccca8"
   },
   "outputs": [
    {
     "data": {
      "text/plain": [
       "array([[1.00e+00, 1.00e+00, 1.00e+00, 1.00e+00, 1.00e+00, 1.00e+00,\n",
       "        1.00e+00, 1.00e+00, 1.00e+00, 1.00e+00],\n",
       "       [1.00e+00, 1.00e+00, 2.00e+00, 1.00e+00, 3.00e+00, 0.00e+00,\n",
       "        5.00e+00, 1.00e+01, 1.00e+00, 2.00e+00],\n",
       "       [5.00e+02, 7.00e+02, 7.50e+02, 6.00e+02, 1.45e+03, 8.00e+02,\n",
       "        1.50e+03, 2.00e+03, 4.50e+02, 1.00e+03],\n",
       "       [1.00e+00, 1.00e+00, 2.00e+00, 1.00e+00, 2.00e+00, 1.00e+00,\n",
       "        3.00e+00, 3.00e+00, 1.00e+00, 2.00e+00]])"
      ]
     },
     "execution_count": 15,
     "metadata": {},
     "output_type": "execute_result"
    }
   ],
   "source": [
    "X_norm = X.copy()\n",
    "X_norm = X_norm.astype(np.float64)\n",
    "X_norm"
   ]
  },
  {
   "cell_type": "code",
   "execution_count": 16,
   "metadata": {
    "colab": {
     "base_uri": "https://localhost:8080/",
     "height": 121
    },
    "colab_type": "code",
    "id": "7x-6IuPOcIo0",
    "outputId": "1668fec7-37ae-4671-ad9f-f093c30a6c72"
   },
   "outputs": [
    {
     "data": {
      "text/plain": [
       "array([[1.00e+00, 1.00e+00, 1.00e+00, 1.00e+00, 1.00e+00, 1.00e+00,\n",
       "        1.00e+00, 1.00e+00, 1.00e+00, 1.00e+00],\n",
       "       [1.00e-01, 1.00e-01, 2.00e-01, 1.00e-01, 3.00e-01, 0.00e+00,\n",
       "        5.00e-01, 1.00e+00, 1.00e-01, 2.00e-01],\n",
       "       [5.00e+02, 7.00e+02, 7.50e+02, 6.00e+02, 1.45e+03, 8.00e+02,\n",
       "        1.50e+03, 2.00e+03, 4.50e+02, 1.00e+03],\n",
       "       [1.00e+00, 1.00e+00, 2.00e+00, 1.00e+00, 2.00e+00, 1.00e+00,\n",
       "        3.00e+00, 3.00e+00, 1.00e+00, 2.00e+00]])"
      ]
     },
     "execution_count": 16,
     "metadata": {},
     "output_type": "execute_result"
    }
   ],
   "source": [
    "X_norm[1] = (X[1] - X[1].min()) / (X[1].max() - X[1].min())\n",
    "X_norm"
   ]
  },
  {
   "cell_type": "code",
   "execution_count": 17,
   "metadata": {
    "colab": {
     "base_uri": "https://localhost:8080/",
     "height": 121
    },
    "colab_type": "code",
    "id": "izkMRdXFcjyK",
    "outputId": "982b8c8d-629d-4c4a-a3d5-67854cee4a4a"
   },
   "outputs": [
    {
     "data": {
      "text/plain": [
       "array([[1.        , 1.        , 1.        , 1.        , 1.        ,\n",
       "        1.        , 1.        , 1.        , 1.        , 1.        ],\n",
       "       [0.1       , 0.1       , 0.2       , 0.1       , 0.3       ,\n",
       "        0.        , 0.5       , 1.        , 0.1       , 0.2       ],\n",
       "       [0.03225806, 0.16129032, 0.19354839, 0.09677419, 0.64516129,\n",
       "        0.22580645, 0.67741935, 1.        , 0.        , 0.35483871],\n",
       "       [1.        , 1.        , 2.        , 1.        , 2.        ,\n",
       "        1.        , 3.        , 3.        , 1.        , 2.        ]])"
      ]
     },
     "execution_count": 17,
     "metadata": {},
     "output_type": "execute_result"
    }
   ],
   "source": [
    "X_norm[2] = (X[2] - X[2].min()) / (X[2].max() - X[2].min())\n",
    "X_norm"
   ]
  },
  {
   "cell_type": "markdown",
   "metadata": {
    "colab": {},
    "colab_type": "code",
    "id": "Zy63bpFfeqzu"
   },
   "source": [
    "### Стандартизация  \n",
    "\n",
    "$$\\large X_{norm} = \\frac{X – X_{mean}}{std}$$"
   ]
  },
  {
   "cell_type": "code",
   "execution_count": 18,
   "metadata": {
    "colab": {
     "base_uri": "https://localhost:8080/",
     "height": 317
    },
    "colab_type": "code",
    "id": "8i9pB-3-fMD4",
    "outputId": "3cbe76f6-d000-4fcd-fe86-ffe853403356"
   },
   "outputs": [
    {
     "data": {
      "image/png": "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\n",
      "text/plain": [
       "<Figure size 432x288 with 1 Axes>"
      ]
     },
     "metadata": {
      "needs_background": "light"
     },
     "output_type": "display_data"
    }
   ],
   "source": [
    "plt.hist(X[1]);"
   ]
  },
  {
   "cell_type": "code",
   "execution_count": 19,
   "metadata": {
    "colab": {
     "base_uri": "https://localhost:8080/",
     "height": 335
    },
    "colab_type": "code",
    "id": "-bnAYQqVfRX-",
    "outputId": "d59b0013-49bc-40fa-cb29-e71403e6e9e0"
   },
   "outputs": [
    {
     "data": {
      "image/png": "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\n",
      "text/plain": [
       "<Figure size 432x288 with 1 Axes>"
      ]
     },
     "metadata": {
      "needs_background": "light"
     },
     "output_type": "display_data"
    }
   ],
   "source": [
    "plt.hist(X[2]);"
   ]
  },
  {
   "cell_type": "code",
   "execution_count": 20,
   "metadata": {
    "colab": {
     "base_uri": "https://localhost:8080/",
     "height": 34
    },
    "colab_type": "code",
    "id": "eBMYUxGBfeGs",
    "outputId": "3d6031a8-3489-4661-a4a9-62d0c94c7116"
   },
   "outputs": [
    {
     "data": {
      "text/plain": [
       "2.6"
      ]
     },
     "execution_count": 20,
     "metadata": {},
     "output_type": "execute_result"
    }
   ],
   "source": [
    "X1_mean = X[1].mean()\n",
    "X1_mean"
   ]
  },
  {
   "cell_type": "code",
   "execution_count": 21,
   "metadata": {
    "colab": {
     "base_uri": "https://localhost:8080/",
     "height": 34
    },
    "colab_type": "code",
    "id": "KsBCCu-Cf45z",
    "outputId": "e5c534cf-2e3c-4574-f281-3ae73c956783"
   },
   "outputs": [
    {
     "data": {
      "text/plain": [
       "2.8000000000000003"
      ]
     },
     "execution_count": 21,
     "metadata": {},
     "output_type": "execute_result"
    }
   ],
   "source": [
    "X1_std = X[1].std()\n",
    "X1_std"
   ]
  },
  {
   "cell_type": "code",
   "execution_count": 22,
   "metadata": {
    "colab": {},
    "colab_type": "code",
    "id": "M57-Pzl_f_rF"
   },
   "outputs": [],
   "source": [
    "X_st = X.copy().astype(np.float64)"
   ]
  },
  {
   "cell_type": "code",
   "execution_count": 23,
   "metadata": {
    "colab": {
     "base_uri": "https://localhost:8080/",
     "height": 294
    },
    "colab_type": "code",
    "id": "btJMY0YbgKLb",
    "outputId": "40010205-def9-4582-9a5d-e513e85b7a4e"
   },
   "outputs": [
    {
     "data": {
      "text/plain": [
       "array([[ 1.00000000e+00,  1.00000000e+00,  1.00000000e+00,\n",
       "         1.00000000e+00,  1.00000000e+00,  1.00000000e+00,\n",
       "         1.00000000e+00,  1.00000000e+00,  1.00000000e+00,\n",
       "         1.00000000e+00],\n",
       "       [-5.71428571e-01, -5.71428571e-01, -2.14285714e-01,\n",
       "        -5.71428571e-01,  1.42857143e-01, -9.28571429e-01,\n",
       "         8.57142857e-01,  2.64285714e+00, -5.71428571e-01,\n",
       "        -2.14285714e-01],\n",
       "       [ 5.00000000e+02,  7.00000000e+02,  7.50000000e+02,\n",
       "         6.00000000e+02,  1.45000000e+03,  8.00000000e+02,\n",
       "         1.50000000e+03,  2.00000000e+03,  4.50000000e+02,\n",
       "         1.00000000e+03],\n",
       "       [ 1.00000000e+00,  1.00000000e+00,  2.00000000e+00,\n",
       "         1.00000000e+00,  2.00000000e+00,  1.00000000e+00,\n",
       "         3.00000000e+00,  3.00000000e+00,  1.00000000e+00,\n",
       "         2.00000000e+00]])"
      ]
     },
     "execution_count": 23,
     "metadata": {},
     "output_type": "execute_result"
    }
   ],
   "source": [
    "X_st[1] = (X[1] - X1_mean) / X1_std\n",
    "X_st"
   ]
  },
  {
   "cell_type": "code",
   "execution_count": 24,
   "metadata": {
    "colab": {
     "base_uri": "https://localhost:8080/",
     "height": 352
    },
    "colab_type": "code",
    "id": "-Y1tzWGCgYjA",
    "outputId": "89dc21fe-180f-4e68-f30f-1cf276c4f154"
   },
   "outputs": [
    {
     "data": {
      "image/png": "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\n",
      "text/plain": [
       "<Figure size 432x288 with 1 Axes>"
      ]
     },
     "metadata": {
      "needs_background": "light"
     },
     "output_type": "display_data"
    }
   ],
   "source": [
    "plt.hist(X_st[1]);"
   ]
  },
  {
   "cell_type": "code",
   "execution_count": 25,
   "metadata": {
    "colab": {},
    "colab_type": "code",
    "id": "ZlJUBOyzgkJV"
   },
   "outputs": [],
   "source": [
    "def custom_StandardScaler(x):\n",
    "    res = (x - x.mean()) / x.std()\n",
    "    return res"
   ]
  },
  {
   "cell_type": "code",
   "execution_count": 26,
   "metadata": {
    "colab": {},
    "colab_type": "code",
    "id": "6PlDlFY0hGZA"
   },
   "outputs": [],
   "source": [
    "X_st[2] = custom_StandardScaler(X[2])"
   ]
  },
  {
   "cell_type": "code",
   "execution_count": 27,
   "metadata": {
    "colab": {
     "base_uri": "https://localhost:8080/",
     "height": 155
    },
    "colab_type": "code",
    "id": "LOKhmhJjt9TR",
    "outputId": "2b131d78-9066-462b-dfa9-778758f3d363"
   },
   "outputs": [
    {
     "data": {
      "text/plain": [
       "array([[ 1.        ,  1.        ,  1.        ,  1.        ,  1.        ,\n",
       "         1.        ,  1.        ,  1.        ,  1.        ,  1.        ],\n",
       "       [-0.57142857, -0.57142857, -0.21428571, -0.57142857,  0.14285714,\n",
       "        -0.92857143,  0.85714286,  2.64285714, -0.57142857, -0.21428571],\n",
       "       [-0.97958969, -0.56713087, -0.46401617, -0.77336028,  0.97958969,\n",
       "        -0.36090146,  1.08270439,  2.11385144, -1.08270439,  0.05155735],\n",
       "       [-0.89625816, -0.89625816,  0.38411064, -0.89625816,  0.38411064,\n",
       "        -0.89625816,  1.66447944,  1.66447944, -0.89625816,  0.38411064]])"
      ]
     },
     "execution_count": 27,
     "metadata": {},
     "output_type": "execute_result"
    }
   ],
   "source": [
    "X_st[3] = custom_StandardScaler(X[3])\n",
    "X_st"
   ]
  },
  {
   "cell_type": "code",
   "execution_count": 28,
   "metadata": {
    "colab": {
     "base_uri": "https://localhost:8080/",
     "height": 121
    },
    "colab_type": "code",
    "id": "UwiZ4UcOhQXX",
    "outputId": "a4b1c355-12d6-49cf-f097-24af99872ab9"
   },
   "outputs": [
    {
     "data": {
      "image/png": "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\n",
      "text/plain": [
       "<Figure size 432x288 with 1 Axes>"
      ]
     },
     "metadata": {
      "needs_background": "light"
     },
     "output_type": "display_data"
    }
   ],
   "source": [
    "plt.hist(X_st[1]);"
   ]
  },
  {
   "cell_type": "code",
   "execution_count": null,
   "metadata": {},
   "outputs": [],
   "source": []
  },
  {
   "cell_type": "markdown",
   "metadata": {
    "colab": {},
    "colab_type": "code",
    "id": "UdGy9tjVhZol"
   },
   "source": [
    "# SGD"
   ]
  },
  {
   "cell_type": "markdown",
   "metadata": {},
   "source": [
    "![img/lr_gradient_descent.gif](img/lr_gradient_descent.gif)"
   ]
  },
  {
   "cell_type": "markdown",
   "metadata": {},
   "source": [
    "Как нейронные сети обучаются с помощью градиентного спуска:  \n",
    "https://www.youtube.com/watch?v=IHZwWFHWa-w"
   ]
  },
  {
   "cell_type": "code",
   "execution_count": 29,
   "metadata": {
    "colab": {},
    "colab_type": "code",
    "id": "VDpN7UxYnrcS"
   },
   "outputs": [],
   "source": [
    "def calc_mse(y, y_pred):\n",
    "    err = np.mean((y - y_pred)**2)\n",
    "    return err"
   ]
  },
  {
   "cell_type": "code",
   "execution_count": 30,
   "metadata": {
    "colab": {},
    "colab_type": "code",
    "id": "SgEyis2zlJeb"
   },
   "outputs": [],
   "source": [
    "def eval_model(X, y, iterations, alpha=1e-4):\n",
    "    W = np.random.randn(X.shape[0])\n",
    "    n = X.shape[1]\n",
    "    for i in range(1, iterations+1):\n",
    "        y_pred = np.dot(W, X)\n",
    "        err = calc_mse(y, y_pred)\n",
    "        W -= (alpha * (1/n * 2 * np.dot((y_pred - y), X.T)))\n",
    "        if i % (iterations / 10) == 0:\n",
    "            print(f'# итерация: {i}, MSE: {err}, веса: {W}')\n",
    "    return W"
   ]
  },
  {
   "cell_type": "code",
   "execution_count": 31,
   "metadata": {
    "colab": {
     "base_uri": "https://localhost:8080/",
     "height": 207
    },
    "colab_type": "code",
    "id": "4nsYMAGjmFlB",
    "outputId": "8959a8af-3d27-42a6-afae-5db46c794fe1"
   },
   "outputs": [
    {
     "name": "stdout",
     "output_type": "stream",
     "text": [
      "# итерация: 100, MSE: 97.60528653823738, веса: [49.99042212  4.16968116  2.83340134  4.6092609 ]\n",
      "# итерация: 200, MSE: 41.20255800796954, веса: [56.41734507  4.581809    2.6253346   4.44733432]\n",
      "# итерация: 300, MSE: 40.06457241352949, веса: [57.26968074  4.89540021  2.43727867  4.32361432]\n",
      "# итерация: 400, MSE: 39.952496875142614, веса: [57.38271712  5.1425916   2.27791249  4.23729208]\n",
      "# итерация: 500, MSE: 39.8918709354571, веса: [57.39770795  5.33797703  2.14310497  4.17804391]\n",
      "# итерация: 600, MSE: 39.853051483651235, веса: [57.39969603  5.49281855  2.02923025  4.1382441 ]\n",
      "# итерация: 700, MSE: 39.82783107164046, веса: [57.39995969  5.61585151  1.93315589  4.11230267]\n",
      "# итерация: 800, MSE: 39.8112928489532, веса: [57.39999465  5.71386612  1.85218735  4.09613814]\n",
      "# итерация: 900, MSE: 39.800355977541145, веса: [57.39999929  5.79215254  1.78401515  4.08678431]\n",
      "# итерация: 1000, MSE: 39.79306777481564, веса: [57.39999991  5.85484181  1.72666594  4.0820975 ]\n"
     ]
    },
    {
     "data": {
      "text/plain": [
       "array([57.39999991,  5.85484181,  1.72666594,  4.0820975 ])"
      ]
     },
     "execution_count": 31,
     "metadata": {},
     "output_type": "execute_result"
    }
   ],
   "source": [
    "eval_model(X_st, y, iterations=1000, alpha=1e-2)"
   ]
  },
  {
   "cell_type": "code",
   "execution_count": 32,
   "metadata": {
    "colab": {},
    "colab_type": "code",
    "id": "nCcMmNdQmxDp"
   },
   "outputs": [],
   "source": [
    "def eval_sgd_model(X, y, iterations, qty_in_batch, alpha=1e-4):\n",
    "    W = np.random.randn(X.shape[0])\n",
    "    n = X.shape[1]\n",
    "    n_batch = n // qty_in_batch\n",
    "    if n % qty_in_batch != 0:\n",
    "        n_batch += 1\n",
    "    for i in range(1, iterations+1):\n",
    "        for b in range(n_batch):\n",
    "            start_ = qty_in_batch*b\n",
    "            end_ = qty_in_batch*(b+1)\n",
    "            X_tmp = X[:, start_ : end_]\n",
    "            y_tmp = y[start_ : end_]\n",
    "            y_pred_tmp = np.dot(W, X_tmp)\n",
    "            err = calc_mse(y_tmp, y_pred_tmp)\n",
    "            W -= (alpha * (1/n * 2 * np.dot((y_pred_tmp - y_tmp), X_tmp.T)))\n",
    "        if i % (iterations / 10) == 0:\n",
    "            print(f'# итерация: {i}, MSE: {err}, веса: {W}')\n",
    "    return W"
   ]
  },
  {
   "cell_type": "code",
   "execution_count": 33,
   "metadata": {},
   "outputs": [
    {
     "name": "stdout",
     "output_type": "stream",
     "text": [
      "# итерация: 500, MSE: 40.85626969549385, веса: [57.39648495  5.16900926  2.52430977  3.98767295]\n",
      "# итерация: 1000, MSE: 39.435216172440576, веса: [57.39820568  5.79249571  1.87513763  4.01832487]\n",
      "# итерация: 1500, MSE: 38.77998893119429, веса: [57.39794933  6.01186617  1.60668844  4.06978346]\n",
      "# итерация: 2000, MSE: 38.49063517813847, веса: [57.3978521   6.09270066  1.49654008  4.10014909]\n",
      "# итерация: 2500, MSE: 38.3669556602848, веса: [57.3978143   6.12351059  1.45155079  4.11477613]\n",
      "# итерация: 3000, MSE: 38.31517521710359, веса: [57.39779937  6.13552783  1.4332248   4.12127162]\n",
      "# итерация: 3500, MSE: 38.293766808162346, веса: [57.39779341  6.14028603  1.42577184  4.12404338]\n",
      "# итерация: 4000, MSE: 38.28498205265255, веса: [57.39779102  6.14218798  1.42274371  4.12520111]\n",
      "# итерация: 4500, MSE: 38.28139357781045, веса: [57.39779005  6.14295269  1.42151408  4.12567889]\n",
      "# итерация: 5000, MSE: 38.2799317033002, веса: [57.39778966  6.14326126  1.42101494  4.1258747 ]\n"
     ]
    },
    {
     "data": {
      "text/plain": [
       "array([57.39778966,  6.14326126,  1.42101494,  4.1258747 ])"
      ]
     },
     "execution_count": 33,
     "metadata": {},
     "output_type": "execute_result"
    }
   ],
   "source": [
    "eval_sgd_model(X_st, y, iterations=5000, qty_in_batch=5, alpha=1e-2)"
   ]
  },
  {
   "cell_type": "markdown",
   "metadata": {},
   "source": [
    "### Регуляризация  \n",
    "\n",
    "По сути, регуляризация - это ограничение модели.  \n",
    "Для нас это, прежде всего, способ уменьшить сложность модели, чтобы предотвратить переобучение.\n",
    "Проблема: признаки могут иметь линейную (или почти линейную) зависимость.  \n",
    "Если у нас есть такие признаки, модель будет не устойчива к изменению в данных (большой variance).  \n",
    "Чтобы побороть этот эффект, модель при обучении дополнительно ограничивают, используя **регуляризацию**.\n",
    "\n",
    "Подробнее здесь:  \n",
    "https://habr.com/ru/company/ods/blog/323890/  \n",
    "и здесь:  \n",
    "https://habr.com/ru/company/ods/blog/322076/  "
   ]
  },
  {
   "cell_type": "markdown",
   "metadata": {
    "colab": {},
    "colab_type": "code",
    "id": "DYTxT_6OrZpe"
   },
   "source": [
    "L1 регуляризация"
   ]
  },
  {
   "cell_type": "markdown",
   "metadata": {
    "colab": {},
    "colab_type": "code",
    "id": "Ojkn7xKrsyiw"
   },
   "source": [
    "$$\\Large \\mathcal{L}_{reg} \\left(X, \\vec{y}, \\vec{w}\\right) = \\mathcal{L}\\left(X, \\vec{y}, \\vec{w}\\right)  + \\lambda \\sum_{j=1}^m \\left| w_j \\right|$$"
   ]
  },
  {
   "cell_type": "markdown",
   "metadata": {
    "colab": {},
    "colab_type": "code",
    "id": "j38vId7Hvtg0"
   },
   "source": [
    "L2 регуляризация"
   ]
  },
  {
   "cell_type": "markdown",
   "metadata": {
    "colab": {},
    "colab_type": "code",
    "id": "KO5BtZ7svv4k"
   },
   "source": [
    "$$\\Large \\mathcal{L}_{reg} \\left(X, \\vec{y}, \\vec{w}\\right) = \\mathcal{L}\\left(X, \\vec{y}, \\vec{w}\\right) + \\lambda \\frac{1}{2} \\sum_{j=1}^m w_j^2$$"
   ]
  },
  {
   "cell_type": "code",
   "execution_count": 34,
   "metadata": {
    "colab": {},
    "colab_type": "code",
    "id": "7AVoe1Mswjni"
   },
   "outputs": [],
   "source": [
    "def eval_model_reg2(X, y, iterations, alpha=1e-4, lambda_=1e-8):\n",
    "    np.random.seed(42)\n",
    "    W = np.random.randn(X.shape[0])\n",
    "    n = X.shape[1]\n",
    "    for i in range(1, iterations+1):\n",
    "        y_pred = np.dot(W, X)\n",
    "        err = calc_mse(y, y_pred)\n",
    "        W -= alpha * (1/n * 2 * np.dot((y_pred - y), X.T) + lambda_ * W) \n",
    "        if i % (iterations / 10) == 0:\n",
    "            print(f'# итерация: {i}, MSE: {err}, веса: {W}')\n",
    "    return W"
   ]
  },
  {
   "cell_type": "code",
   "execution_count": 35,
   "metadata": {
    "colab": {
     "base_uri": "https://localhost:8080/",
     "height": 207
    },
    "colab_type": "code",
    "id": "vLJL6j8Lw6OA",
    "outputId": "dac9ef42-5966-4404-9346-aeb18cca83c6"
   },
   "outputs": [
    {
     "name": "stdout",
     "output_type": "stream",
     "text": [
      "# итерация: 500, MSE: 39.98166412253417, веса: [57.39479705  5.10767868  2.46037345  4.08674902]\n",
      "# итерация: 1000, MSE: 39.80723120406399, веса: [57.39713005  5.765859    1.85689028  4.03893236]\n",
      "# итерация: 1500, MSE: 39.78240504280036, веса: [57.39713014  5.99060723  1.60529698  4.06885866]\n",
      "# итерация: 2000, MSE: 39.778523565788916, веса: [57.39713014  6.07152025  1.50155606  4.09300748]\n",
      "# итерация: 2500, MSE: 39.777887486171274, веса: [57.39713014  6.10185559  1.45905205  4.10572941]\n",
      "# итерация: 3000, MSE: 39.77777930470262, веса: [57.39713014  6.11355928  1.44170275  4.11160375]\n",
      "# итерация: 3500, MSE: 39.77775983405892, веса: [57.39713014  6.11816175  1.43463681  4.11416107]\n",
      "# итерация: 4000, MSE: 39.77775594321602, веса: [57.39713014  6.11999396  1.43176283  4.1152412 ]\n",
      "# итерация: 4500, MSE: 39.777755024514185, веса: [57.39713014  6.12072893  1.43059479  4.11568989]\n",
      "# итерация: 5000, MSE: 39.77775476050768, веса: [57.39713014  6.12102515  1.4301203   4.11587451]\n"
     ]
    },
    {
     "data": {
      "text/plain": [
       "array([57.39713014,  6.12102515,  1.4301203 ,  4.11587451])"
      ]
     },
     "execution_count": 35,
     "metadata": {},
     "output_type": "execute_result"
    }
   ],
   "source": [
    "eval_model_reg2(X_st, y, iterations=5000, alpha=1e-2, lambda_=1e-4)"
   ]
  },
  {
   "cell_type": "code",
   "execution_count": 36,
   "metadata": {},
   "outputs": [],
   "source": [
    "def sigmoid(z):\n",
    "    res = 1 / (1 + np.exp(-z))\n",
    "    return res\n",
    "\n"
   ]
  },
  {
   "cell_type": "markdown",
   "metadata": {},
   "source": [
    "**Домашнее задание<a class=\"anchor\" id=\"theory\"></a>**\n",
    "1. Постройте график зависимости весов всех признаков от lambda в L2-регуляризации (на данных из урока).\n",
    "2. Можно ли к одному и тому же признаку применить сразу и нормализацию, и стандартизацию?  \n",
    "3. Напишите функцию наподобие eval_model_reg2, но для применения L1-регуляризации *."
   ]
  },
  {
   "cell_type": "markdown",
   "metadata": {},
   "source": [
    "**1**"
   ]
  },
  {
   "cell_type": "code",
   "execution_count": 38,
   "metadata": {},
   "outputs": [
    {
     "name": "stderr",
     "output_type": "stream",
     "text": [
      "/home/mikhail/anaconda3/lib/python3.7/site-packages/ipykernel_launcher.py:2: RuntimeWarning: overflow encountered in square\n",
      "  \n",
      "/home/mikhail/anaconda3/lib/python3.7/site-packages/ipykernel_launcher.py:8: RuntimeWarning: overflow encountered in multiply\n",
      "  \n"
     ]
    }
   ],
   "source": [
    "\n",
    "lambdas = [1e-5, 1e-4, 1e-3, 1e-2, 1e-1, 1, 10, 100, 1000]\n",
    "weights = np.array(list(map(lambda x : eval_model_reg2(X_st, y, iterations=5000,\n",
    "                                              alpha=1e-2, lambda_=x), lambdas)))"
   ]
  },
  {
   "cell_type": "code",
   "execution_count": 40,
   "metadata": {},
   "outputs": [
    {
     "data": {
      "image/png": "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\n",
      "text/plain": [
       "<Figure size 432x288 with 1 Axes>"
      ]
     },
     "metadata": {
      "needs_background": "light"
     },
     "output_type": "display_data"
    }
   ],
   "source": [
    "from math import exp\n",
    "import matplotlib.pyplot as plt\n",
    "import numpy as np\n",
    "\n",
    "\n",
    "plt.plot(lambdas, weights)\n",
    "plt.ylabel('weights')\n",
    "plt.xlabel('lambdas')\n",
    "plt.xscale('log')\n",
    "plt.yscale('log')\n",
    "plt.show()\n",
    "# plt.xscale('symlog')\n",
    "# plt.yscale('logit')\n",
    "# plt.grid(True)\n",
    "# plt.gca().xaxis.grid(True, which='major')\n",
    "# print(max(y))"
   ]
  },
  {
   "cell_type": "markdown",
   "metadata": {},
   "source": [
    "**2**"
   ]
  },
  {
   "cell_type": "markdown",
   "metadata": {},
   "source": [
    "Согласно вот этим мыслям:\n",
    "*(Нормализация предполагает замену номинальных признаков так, чтобы каждый из них лежал в диапазоне от 0 до 1. Стандартизация же подразумевает такую предобработку данных, после которой каждый признак имеет среднее 0 и дисперсию 1.)*\n",
    "\n",
    "Я думаю можно.\n",
    "\n",
    "Только сначала надо провести стандартизацию.\n",
    "А потом нормализовать.\n",
    "\n",
    "\n",
    "\n"
   ]
  },
  {
   "cell_type": "markdown",
   "metadata": {},
   "source": [
    "**3**"
   ]
  },
  {
   "cell_type": "code",
   "execution_count": 37,
   "metadata": {
    "colab": {},
    "colab_type": "code",
    "id": "7AVoe1Mswjni"
   },
   "outputs": [],
   "source": [
    "def eval_model_reg2(X, y, iterations, alpha=1e-4, lambda_=1e-8):\n",
    "    np.random.seed(42)\n",
    "    W = np.random.randn(X.shape[0])\n",
    "    n = X.shape[1]\n",
    "    for i in range(1, iterations+1):\n",
    "        y_pred = np.dot(W, X)\n",
    "        err = calc_mse(y, y_pred)\n",
    "        W -= alpha * (1/n * 2 * np.dot((y_pred - y), X.T) + lambda_ * W) \n",
    "#         if i % (iterations / 10) == 0:\n",
    "#             print(f'# итерация: {i}, MSE: {err}, веса: {W}')\n",
    "    return W"
   ]
  }
 ],
 "metadata": {
  "colab": {
   "collapsed_sections": [],
   "name": "Lesson2.ipynb",
   "provenance": []
  },
  "kernelspec": {
   "display_name": "Python 3",
   "language": "python",
   "name": "python3"
  },
  "language_info": {
   "codemirror_mode": {
    "name": "ipython",
    "version": 3
   },
   "file_extension": ".py",
   "mimetype": "text/x-python",
   "name": "python",
   "nbconvert_exporter": "python",
   "pygments_lexer": "ipython3",
   "version": "3.7.3"
  }
 },
 "nbformat": 4,
 "nbformat_minor": 2
}
